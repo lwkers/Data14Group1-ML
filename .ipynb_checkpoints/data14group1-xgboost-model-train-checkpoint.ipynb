{
 "cells": [
  {
   "cell_type": "code",
   "execution_count": null,
   "id": "345e6fdd-1bba-4e94-9776-b3e611392e9b",
   "metadata": {},
   "outputs": [],
   "source": [
    "import sagemaker\n",
    "import boto3\n",
    "from sagemaker import image_uris\n",
    "from sagemaker.session import Session\n",
    "from sagemaker.inputs import TrainingInput\n",
    "from sagemaker import get_execution_role"
   ]
  },
  {
   "cell_type": "code",
   "execution_count": null,
   "id": "8f7c989c-bd9f-48da-83b6-551f749c7933",
   "metadata": {},
   "outputs": [],
   "source": [
    "# get sagemaker-execution role\n",
    "# https://github.com/aws/sagemaker-python-sdk/issues/300\n",
    "# https://docs.aws.amazon.com/sagemaker/latest/dg/sagemaker-roles.html\n",
    "def resolve_sm_role():\n",
    "    client = boto3.client('iam', region_name=boto3.Session().region_name)\n",
    "    response_roles = client.list_roles(\n",
    "        PathPrefix='/',\n",
    "        MaxItems=123\n",
    "    )\n",
    "    for role in response_roles['Roles']:\n",
    "        if role['RoleName'].startswith('AmazonSageMaker-ExecutionRole-'):\n",
    "            return role['Arn']\n",
    "    raise Exception('need to create sagemaker execution role from aws console first')\n",
    "    return\n",
    "\n",
    "try:\n",
    "    execution_role_ARN = sagemaker.get_execution_role()\n",
    "except ValueError:\n",
    "    execution_role_ARN = resolve_sm_role()\n",
    "\n",
    "execution_role_ARN"
   ]
  },
  {
   "cell_type": "code",
   "execution_count": null,
   "id": "dfe36437-9972-4ae6-b959-dc5d0d57a2a4",
   "metadata": {},
   "outputs": [],
   "source": [
    "# Store the current SageMaker session\n",
    "session = sagemaker.Session()\n",
    "# Define the global bucket name\n",
    "bucket = \"data14group1-ml\""
   ]
  },
  {
   "cell_type": "markdown",
   "id": "3ed5a42a-1437-496d-bc9e-6f7df4004bd4",
   "metadata": {},
   "source": [
    "### Prepare the container and parameters for model training"
   ]
  },
  {
   "cell_type": "code",
   "execution_count": null,
   "id": "8841c989-bb6d-41b6-80f3-d32bac4295df",
   "metadata": {},
   "outputs": [],
   "source": [
    "# Retrieve the location of the container which is provided by Amazon for using XGBoost.\n",
    "# As a matter of convenience, the training and inference code both use the same container.\n",
    "region = session.boto_region_name\n",
    "xgboost_container = sagemaker.image_uris.retrieve(\"xgboost\", region, \"1.7-1\")\n",
    "\n",
    "region"
   ]
  },
  {
   "cell_type": "code",
   "execution_count": null,
   "id": "8688a505-f54e-4dd6-938d-1466872d0208",
   "metadata": {},
   "outputs": [],
   "source": [
    "# Initialize hyperparameters\n",
    "hyperparameters = {\n",
    "        \"objective\":'binary:logistic',\n",
    "        \"max_depth\":\"5\",\n",
    "        \"eta\":\"0.1\",\n",
    "        \"gamma\":\"4\",\n",
    "        \"min_child_weight\":\"6\",\n",
    "        \"subsample\":\"0.8\",\n",
    "        \"early_stopping_rounds\":\"10\",\n",
    "        \"num_round\":\"500\"}\n",
    "\n",
    "# set an output path where the trained model will be saved\n",
    "# bucket = sagemaker.Session().default_bucket()\n",
    "prefix = 'xgboost'\n",
    "output_path = 's3://{}/{}/output'.format(bucket, prefix)\n",
    "\n",
    "# this line automatically looks for the XGBoost image URI and builds an XGBoost container.\n",
    "# specify the repo_version depending on your preference.\n",
    "\n",
    "# construct a SageMaker estimator that calls the xgboost-container\n",
    "xgb = sagemaker.estimator.Estimator(image_uri=xgboost_container,\n",
    "                                      hyperparameters=hyperparameters,\n",
    "                                      role=execution_role_ARN,\n",
    "                                      instance_count=1, \n",
    "                                      instance_type='ml.m5.xlarge', \n",
    "                                      volume_size=5, # 5 GB \n",
    "                                      output_path=output_path,\n",
    "                                      sagemaker_session=session\n",
    "                                   )\n",
    "\n",
    "print(\"xgb object specified!\")"
   ]
  },
  {
   "cell_type": "markdown",
   "id": "aa4b7468-eedb-4cf0-873a-aa9a186eb56a",
   "metadata": {},
   "source": [
    "### Fit the xgb estimator"
   ]
  },
  {
   "cell_type": "code",
   "execution_count": null,
   "id": "a6595d74-9536-4f50-ad33-0555114afd1b",
   "metadata": {},
   "outputs": [],
   "source": [
    "# The label column is assumed to be the first column\n",
    "\n",
    "# define the data type and paths to the training and validation datasets\n",
    "content_type = \"application/x-parquet\"\n",
    "prefix = \"data\"\n",
    "\n",
    "train_input = TrainingInput(\n",
    "                \"s3://{}/{}/{}/\".format(bucket, prefix, \"train\"),\n",
    "                content_type=content_type\n",
    ")\n",
    "validation_input = TrainingInput(\n",
    "                \"s3://{}/{}/{}/\".format(bucket, prefix, \"validation\"),\n",
    "                content_type=content_type\n",
    ")\n",
    "\n",
    "# execute the XGBoost training job\n",
    "xgb.fit({'train': train_input, 'validation': validation_input})\n",
    "\n",
    "print('xgb estimator training complete')"
   ]
  },
  {
   "cell_type": "markdown",
   "id": "8ae47bde-da1d-4c72-9598-622505d39c56",
   "metadata": {},
   "source": [
    "### Load a trained model from S3 bucket"
   ]
  },
  {
   "cell_type": "code",
   "execution_count": null,
   "id": "e48c9748-85da-4053-8ff8-37fcd4f585b7",
   "metadata": {},
   "outputs": [],
   "source": [
    "from sagemaker.model import Model\n",
    "\n",
    "model_name = \"\"\n",
    "# Define the S3 path to the model\n",
    "model_url = \"s3://{bucket}/xgboost/{model_name}/model.tar.gz\"\n",
    "\n",
    "# Create a SageMaker model\n",
    "xgb = Model(\n",
    "    model_data=model_url,\n",
    "    image_uri=xgboost_container,\n",
    "    role=execution_role_ARN\n",
    ")"
   ]
  },
  {
   "cell_type": "markdown",
   "id": "1dcc9dc5-6047-4e03-bd8b-f4e3580e23a5",
   "metadata": {},
   "source": [
    "### Create the hyperparameter tuner\n",
    "\n",
    "Now that the base estimator has been set up we need to construct a hyperparameter tuner object which we will use to request SageMaker construct a hyperparameter tuning job.\n",
    "\n",
    "**Note:** If you don't want the hyperparameter tuning job to take too long, make sure to not set the total number of models (jobs) too high."
   ]
  },
  {
   "cell_type": "code",
   "execution_count": null,
   "id": "ebc0ffe1-a5eb-4b38-8be7-72a047bf94c4",
   "metadata": {},
   "outputs": [],
   "source": [
    "# Import the relevant objects used to construct the tuner\n",
    "from sagemaker.tuner import IntegerParameter, ContinuousParameter, HyperparameterTuner\n",
    "\n",
    "hyperparameter_ranges = {\n",
    "                        'max_depth': IntegerParameter(3, 12),\n",
    "                        'eta'      : ContinuousParameter(0.05, 0.5),\n",
    "                        'min_child_weight': IntegerParameter(2, 8),\n",
    "                        'subsample': ContinuousParameter(0.5, 0.9),\n",
    "                        'gamma': ContinuousParameter(0, 10)}\n",
    "\n",
    "# create the tuner object:\n",
    "xgb_hyperparameter_tuner = HyperparameterTuner(estimator = xgb, # The estimator object to use as the basis for the training jobs.\n",
    "                                               objective_metric_name = 'validation:rmse', # The metric used to compare trained models.\n",
    "                                               objective_type = 'Minimize', # Whether we wish to minimize or maximize the metric.\n",
    "                                               max_jobs = 4, # The total number of models to train\n",
    "                                               max_parallel_jobs = 2, # The number of models to train in parallel\n",
    "                                               hyperparameter_ranges = hyperparameter_ranges)\n",
    "\n",
    "print(\"xgb tunner object specified!\")"
   ]
  },
  {
   "cell_type": "code",
   "execution_count": null,
   "id": "564b9db3-72e5-41c4-8170-0c69bf29baf2",
   "metadata": {},
   "outputs": [],
   "source": [
    "### Fit the hyperparameter tuner\n",
    "\n",
    "Now that the hyperparameter tuner object has been constructed, it is time to fit the various models and find the best performing model."
   ]
  },
  {
   "cell_type": "code",
   "execution_count": null,
   "id": "14e88de9-9da3-41bc-b91d-9a92958e07fc",
   "metadata": {},
   "outputs": [],
   "source": [
    "# The label column is assumed to be the first column\n",
    "\n",
    "# define the data type and paths to the training and validation datasets\n",
    "content_type = \"application/x-parquet\"\n",
    "prefix = \"data\"\n",
    "\n",
    "train_input = TrainingInput(\n",
    "                \"s3://{}/{}/{}/\".format(bucket, prefix, \"train\"),\n",
    "                content_type=content_type)\n",
    "validation_input = TrainingInput(\n",
    "                \"s3://{}/{}/{}/\".format(bucket, prefix, \"validation\"),\n",
    "                content_type=content_type)\n",
    "\n",
    "# execute the XGBoost training job\n",
    "xgb_hyperparameter_tuner.fit({'train': train_input, 'validation': validation_input})\n",
    "\n",
    "print('xgb estimator tunning complete')"
   ]
  },
  {
   "cell_type": "markdown",
   "id": "bbf3b375-4cb1-41eb-b102-44a8810a6873",
   "metadata": {},
   "source": [
    "### Putting our model to work \n",
    "Now, the model is trained. So we can attach and deploy the best trained job to an endpoint"
   ]
  },
  {
   "cell_type": "code",
   "execution_count": null,
   "id": "221e653d-bafb-434f-90a6-2b51d96d06e4",
   "metadata": {},
   "outputs": [],
   "source": [
    "# attach the model:\n",
    "xgb_attached = sagemaker.estimator.Estimator.attach(xgb_hyperparameter_tuner.best_training_job())"
   ]
  },
  {
   "cell_type": "code",
   "execution_count": null,
   "id": "e8c4718e-8a77-4834-a645-756534ee1664",
   "metadata": {},
   "outputs": [],
   "source": [
    "# now we deploy the model as an endpoint\n",
    "xgb_predictor = xgb_attached.deploy(initial_instance_count = 1, instance_type = 'ml.m4.xlarge')\n",
    "#xgb_predictor = xgb.deploy(initial_instance_count = 1, instance_type = 'ml.m4.xlarge')\n",
    "print(\"\\nxgb_predictor is ready\")"
   ]
  },
  {
   "cell_type": "code",
   "execution_count": null,
   "id": "6393db62-8a43-413c-ab1c-a4588be0fe2a",
   "metadata": {},
   "outputs": [],
   "source": [
    "# create sagemaker-runtime object\n",
    "import boto3\n",
    "\n",
    "runtime = boto3.Session().client('sagemaker-runtime')"
   ]
  },
  {
   "cell_type": "code",
   "execution_count": null,
   "id": "89180107-a9b0-4e09-bf66-6053a0193696",
   "metadata": {},
   "outputs": [],
   "source": [
    "# Try to invoke the endpoint and see if it works\n",
    "# Body contains all the input features \n",
    "response = runtime.invoke_endpoint(EndpointName = endpoint_name, # The name of the endpoint we created\n",
    "                                       ContentType = 'text/csv', # The data format that is expected\n",
    "                                       Body = '1,6.67578125,3418,209,0.595703125,514,10.0,11,57,11,1599,0.1498791297340854,1.2884770346494763,0.22388993120700437,9.017543859649123,0.017543859649122806,46,0.02127659574468085')"
   ]
  },
  {
   "cell_type": "code",
   "execution_count": null,
   "id": "6b56d03a-6b54-401e-9f9e-42cc3f3ecd8b",
   "metadata": {},
   "outputs": [],
   "source": [
    "# here is the response: the probablility of a user buy the product\n",
    "response['Body'].read().decode('utf-8')"
   ]
  }
 ],
 "metadata": {
  "kernelspec": {
   "display_name": "conda_python3",
   "language": "python",
   "name": "conda_python3"
  },
  "language_info": {
   "codemirror_mode": {
    "name": "ipython",
    "version": 3
   },
   "file_extension": ".py",
   "mimetype": "text/x-python",
   "name": "python",
   "nbconvert_exporter": "python",
   "pygments_lexer": "ipython3",
   "version": "3.10.14"
  }
 },
 "nbformat": 4,
 "nbformat_minor": 5
}
